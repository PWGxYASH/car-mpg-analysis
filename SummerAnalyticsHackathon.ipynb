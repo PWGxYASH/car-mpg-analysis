{
 "cells": [
  {
   "cell_type": "code",
   "execution_count": 1,
   "id": "43d41d37",
   "metadata": {
    "_cell_guid": "b1076dfc-b9ad-4769-8c92-a6c4dae69d19",
    "_uuid": "8f2839f25d086af736a60e9eeb907d3b93b6e0e5",
    "execution": {
     "iopub.execute_input": "2025-06-10T17:38:32.123309Z",
     "iopub.status.busy": "2025-06-10T17:38:32.122984Z",
     "iopub.status.idle": "2025-06-10T17:41:35.918357Z",
     "shell.execute_reply": "2025-06-10T17:41:35.917132Z"
    },
    "papermill": {
     "duration": 183.800797,
     "end_time": "2025-06-10T17:41:35.920254",
     "exception": false,
     "start_time": "2025-06-10T17:38:32.119457",
     "status": "completed"
    },
    "tags": []
   },
   "outputs": [
    {
     "name": "stdout",
     "output_type": "stream",
     "text": [
      "Fitting 3 folds for each of 15 candidates, totalling 45 fits\n",
      "\n",
      "📊 Validation Accuracy: 0.978125\n",
      "\n",
      "Classification Report:\n",
      "               precision    recall  f1-score   support\n",
      "\n",
      "           0       0.88      0.98      0.93       168\n",
      "           1       1.00      1.00      1.00      1232\n",
      "           2       1.00      0.72      0.84        39\n",
      "           3       0.92      0.89      0.90       134\n",
      "           4       1.00      0.50      0.67         6\n",
      "           5       0.95      0.90      0.93        21\n",
      "\n",
      "    accuracy                           0.98      1600\n",
      "   macro avg       0.96      0.83      0.88      1600\n",
      "weighted avg       0.98      0.98      0.98      1600\n",
      "\n"
     ]
    },
    {
     "data": {
      "image/png": "[encoded data removed]",
      "text/plain": [
       "<Figure size 1000x600 with 1 Axes>"
      ]
     },
     "metadata": {},
     "output_type": "display_data"
    },
    {
     "name": "stdout",
     "output_type": "stream",
     "text": [
      "✅ submission.csv created successfully.\n"
     ]
    }
   ],
   "source": [
    "import pandas as pd\n",
    "import numpy as np\n",
    "from sklearn.model_selection import train_test_split, RandomizedSearchCV\n",
    "from sklearn.ensemble import RandomForestClassifier\n",
    "from sklearn.metrics import accuracy_score, classification_report\n",
    "from sklearn.impute import SimpleImputer\n",
    "from sklearn.preprocessing import LabelEncoder, QuantileTransformer\n",
    "from sklearn.feature_selection import VarianceThreshold\n",
    "from sklearn.inspection import permutation_importance\n",
    "import matplotlib.pyplot as plt\n",
    "import seaborn as sns\n",
    "\n",
    "# Load training and test data\n",
    "train_df = pd.read_csv(\"/kaggle/input/summer-analytics-mid-hackathon/hacktrain.csv\")\n",
    "test_df = pd.read_csv(\"/kaggle/input/summer-analytics-mid-hackathon/hacktest.csv\")\n",
    "\n",
    "# Preserve test IDs for final submission\n",
    "test_ids = test_df['ID']\n",
    "\n",
    "# Encode target class\n",
    "le = LabelEncoder()\n",
    "train_df['class'] = le.fit_transform(train_df['class'])\n",
    "\n",
    "# Drop ID column if present\n",
    "if 'ID' in train_df.columns:\n",
    "    train_df.drop(columns=['ID'], inplace=True)\n",
    "if 'ID' in test_df.columns:\n",
    "    test_df.drop(columns=['ID'], inplace=True)\n",
    "\n",
    "# Split train features and labels\n",
    "X = train_df.drop(columns=['class'])\n",
    "y = train_df['class']\n",
    "X_test = test_df.copy()\n",
    "\n",
    "# Remove low-variance features\n",
    "selector = VarianceThreshold(threshold=0.01)\n",
    "X = selector.fit_transform(X)\n",
    "X_test = selector.transform(X_test)\n",
    "\n",
    "# Train-validation split\n",
    "X_train, X_val, y_train, y_val = train_test_split(\n",
    "    X, y, stratify=y, test_size=0.2, random_state=42\n",
    ")\n",
    "\n",
    "# Imputation + scaling\n",
    "imputer = SimpleImputer(strategy=\"mean\")\n",
    "scaler = QuantileTransformer(output_distribution=\"normal\")\n",
    "\n",
    "X_train = scaler.fit_transform(imputer.fit_transform(X_train))\n",
    "X_val = scaler.transform(imputer.transform(X_val))\n",
    "X_test = scaler.transform(imputer.transform(X_test))\n",
    "\n",
    "# RandomForest hyperparameter tuning\n",
    "param_grid = {\n",
    "    'n_estimators': [200, 300, 400],\n",
    "    'max_depth': [10, 20, None],\n",
    "    'min_samples_split': [2, 5, 10],\n",
    "    'min_samples_leaf': [1, 2, 4],\n",
    "    'max_features': ['sqrt', 'log2', None],\n",
    "    'bootstrap': [True, False]\n",
    "}\n",
    "\n",
    "search = RandomizedSearchCV(\n",
    "    RandomForestClassifier(random_state=42, class_weight='balanced'),\n",
    "    param_distributions=param_grid,\n",
    "    n_iter=15,\n",
    "    scoring='accuracy',\n",
    "    cv=3,\n",
    "    random_state=42,\n",
    "    n_jobs=-1,\n",
    "    verbose=1\n",
    ")\n",
    "search.fit(X_train, y_train)\n",
    "model = search.best_estimator_\n",
    "\n",
    "# Evaluate\n",
    "val_preds = model.predict(X_val)\n",
    "val_acc = accuracy_score(y_val, val_preds)\n",
    "print(f\"\\n📊 Validation Accuracy: {val_acc:.6f}\")\n",
    "print(\"\\nClassification Report:\\n\", classification_report(y_val, val_preds))\n",
    "\n",
    "# Permutation Importance\n",
    "result = permutation_importance(model, X_val, y_val, n_repeats=10, random_state=42, n_jobs=-1)\n",
    "importances = pd.DataFrame({\n",
    "    \"Feature\": [f\"F{i}\" for i in range(X.shape[1])],\n",
    "    \"Importance\": result.importances_mean\n",
    "}).sort_values(by=\"Importance\", ascending=False)\n",
    "\n",
    "# Plot top features\n",
    "top_features = importances.head(20)\n",
    "if top_features[\"Importance\"].sum() > 0:\n",
    "    plt.figure(figsize=(10, 6))\n",
    "    sns.barplot(data=top_features, x=\"Importance\", y=\"Feature\", palette=\"mako\")\n",
    "    plt.title(\"Top 20 Feature Importances\")\n",
    "    plt.tight_layout()\n",
    "    plt.show()\n",
    "else:\n",
    "    print(\"⚠ All features have near-zero importance.\")\n",
    "\n",
    "# Predict on test data\n",
    "test_preds = model.predict(X_test)\n",
    "test_classes = le.inverse_transform(test_preds)\n",
    "\n",
    "# Create submission.csv\n",
    "submission = pd.DataFrame({\n",
    "    \"ID\": test_ids,\n",
    "    \"class\": test_classes\n",
    "})\n",
    "submission.to_csv(\"submission.csv\", index=False)\n",
    "print(\"✅ submission.csv created successfully.\")"
   ]
  }
 ],
 "metadata": {
  "kaggle": {
   "accelerator": "none",
   "dataSources": [
    {
     "databundleVersionId": 12585144,
     "sourceId": 104491,
     "sourceType": "competition"
    }
   ],
   "dockerImageVersionId": 31040,
   "isGpuEnabled": false,
   "isInternetEnabled": false,
   "language": "python",
   "sourceType": "notebook"
  },
  "kernelspec": {
   "display_name": "Python 3",
   "language": "python",
   "name": "python3"
  },
  "language_info": {
   "codemirror_mode": {
    "name": "ipython",
    "version": 3
   },
   "file_extension": ".py",
   "mimetype": "text/x-python",
   "name": "python",
   "nbconvert_exporter": "python",
   "pygments_lexer": "ipython3",
   "version": "3.11.11"
  },
  "papermill": {
   "default_parameters": {},
   "duration": 191.226691,
   "end_time": "2025-06-10T17:41:38.545109",
   "environment_variables": {},
   "exception": null,
   "input_path": "__notebook__.ipynb",
   "output_path": "__notebook__.ipynb",
   "parameters": {},
   "start_time": "2025-06-10T17:38:27.318418",
   "version": "2.6.0"
  }
 },
 "nbformat": 4,
 "nbformat_minor": 5
}
